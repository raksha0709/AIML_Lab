{
 "cells": [
  {
   "cell_type": "code",
   "execution_count": 2,
   "metadata": {},
   "outputs": [],
   "source": [
    "import pandas as pd\n",
    "import numpy as np\n",
    "from sklearn import metrics\n",
    "from sklearn.tree import DecisionTreeClassifier\n",
    "from sklearn.model_selection import train_test_split\n",
    "from sklearn.preprocessing import OneHotEncoder"
   ]
  },
  {
   "cell_type": "code",
   "execution_count": 10,
   "metadata": {},
   "outputs": [],
   "source": [
    "#reading the dataset\n",
    "dataset = pd.read_csv('PlayTennis.csv')\n",
    "features = ['Outlook','Temperature','Humidity','Wind']\n",
    "X = dataset[features]\n",
    "Y = dataset.PlayTennis\n",
    "encoder = OneHotEncoder(sparse_output=False, handle_unknown='ignore')\n",
    "X_encoded = pd.DataFrame(encoder.fit_transform(X), columns=encoder.get_feature_names_out(features))\n"
   ]
  },
  {
   "cell_type": "code",
   "execution_count": 11,
   "metadata": {},
   "outputs": [],
   "source": [
    "#splitting the dataset\n",
    "X_train,X_test,Y_train,Y_test = train_test_split(X_encoded, Y, test_size = 0.30, random_state = 100)"
   ]
  },
  {
   "cell_type": "code",
   "execution_count": 12,
   "metadata": {},
   "outputs": [],
   "source": [
    "#building decision tree\n",
    "dtree = DecisionTreeClassifier(criterion = \"entropy\", random_state = 100)\n",
    "dtree.fit(X_train, Y_train)\n",
    "Y_pred = dtree.predict(X_test)"
   ]
  },
  {
   "cell_type": "code",
   "execution_count": 15,
   "metadata": {},
   "outputs": [],
   "source": [
    "#classifying new instance based on the training data\n",
    "def classify_new_instance(outlook, temperature,humidity,wind,encoder):\n",
    "    instance = [[outlook, temperature,humidity,wind]]\n",
    "    instance_df = pd.DataFrame( instance, columns = features)\n",
    "    instance_encoded = encoder.transform(instance_df)\n",
    "    features_names = encoder.get_feature_names_out(features)\n",
    "    instance_encoded_df = pd.DataFrame(instance_encoded, columns = features_names)\n",
    "    prediction = dtree.predict(instance_encoded_df)\n",
    "    return prediction[0]"
   ]
  },
  {
   "cell_type": "code",
   "execution_count": 16,
   "metadata": {},
   "outputs": [
    {
     "name": "stdout",
     "output_type": "stream",
     "text": [
      "Prediction:  No\n",
      "Accuracy:  0.6\n"
     ]
    }
   ],
   "source": [
    "# predicting the class of new instance\n",
    "pred = classify_new_instance( 'Rain', 'Mild', 'High', 'Strong', encoder)\n",
    "print(\"Prediction: \", pred)\n",
    "print(\"Accuracy: \", metrics.accuracy_score(Y_test, Y_pred))"
   ]
  },
  {
   "cell_type": "code",
   "execution_count": null,
   "metadata": {},
   "outputs": [],
   "source": []
  }
 ],
 "metadata": {
  "kernelspec": {
   "display_name": "Python 3",
   "language": "python",
   "name": "python3"
  },
  "language_info": {
   "codemirror_mode": {
    "name": "ipython",
    "version": 3
   },
   "file_extension": ".py",
   "mimetype": "text/x-python",
   "name": "python",
   "nbconvert_exporter": "python",
   "pygments_lexer": "ipython3",
   "version": "3.11.9"
  }
 },
 "nbformat": 4,
 "nbformat_minor": 2
}
